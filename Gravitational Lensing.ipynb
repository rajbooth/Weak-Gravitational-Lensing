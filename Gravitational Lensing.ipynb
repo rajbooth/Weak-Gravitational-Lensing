{
 "cells": [
  {
   "cell_type": "code",
   "execution_count": 1,
   "metadata": {
    "collapsed": false,
    "deletable": true,
    "editable": true
   },
   "outputs": [],
   "source": [
    "import matplotlib.pyplot as plt\n",
    "import matplotlib.patches as patches\n",
    "import matplotlib.text as text\n",
    "import numpy as np"
   ]
  },
  {
   "cell_type": "code",
   "execution_count": 2,
   "metadata": {
    "collapsed": false,
    "deletable": true,
    "editable": true
   },
   "outputs": [],
   "source": [
    "%matplotlib inline"
   ]
  },
  {
   "cell_type": "markdown",
   "metadata": {
    "deletable": true,
    "editable": true
   },
   "source": [
    "# Lens Equation 1"
   ]
  },
  {
   "cell_type": "code",
   "execution_count": 5,
   "metadata": {
    "collapsed": false,
    "deletable": true,
    "editable": true
   },
   "outputs": [
    {
     "data": {
      "image/png": "[encoded data removed]",
      "text/plain": [
       "<matplotlib.figure.Figure at 0x6f49cb0>"
      ]
     },
     "metadata": {},
     "output_type": "display_data"
    }
   ],
   "source": [
    "fig, ax = plt.subplots(figsize=(15, 8))\n",
    "plt.axis('off');                   \n",
    "ax.add_patch(plt.Rectangle((-10, -30), 250, 140,fill=False,ec='0.5'))\n",
    "ax.add_patch(patches.Ellipse((200,50), 60, 100, fc='0.8'))\n",
    "ax.add_patch(patches.Ellipse((100,50), 50, 80, fc='0.7'))\n",
    "ax.add_line(plt.Line2D((0,200), (0, 0), lw=1, c='k'))\n",
    "ax.add_line(plt.Line2D((0,100), (0, 50), lw=1, c='k'))\n",
    "ax.add_line(plt.Line2D((100,200), (50, 40), lw=1, c='k'))\n",
    "ax.add_line(plt.Line2D((100,200), (50, 100), lw=1, c='k', ls='dashed'))\n",
    "ax.add_line(plt.Line2D((0,200), (0, 40), lw=1, c='k', ls='dotted'))\n",
    "ax.arrow(200, 0, 0,35, head_width=2, head_length=5, fc='k', ec='k')\n",
    "ax.annotate(r\"$\\eta$\",xy=(202,20))\n",
    "ax.arrow(200, 0, 0,95, head_width=2, head_length=5, fc='k', ec='k')\n",
    "ax.annotate(r\"$\\zeta$\",xy=(202,70))\n",
    "ax.arrow(100,0,0,45,head_width=2, head_length=5, fc='k', ec='k')\n",
    "ax.annotate(r\"$\\xi$\",xy=(102,30))\n",
    "ax.add_patch(patches.Arc((0,0), 30, 30, angle=0.0, theta1=0, theta2=25))\n",
    "ax.annotate(r\"$\\theta$\",xy=(15,5))\n",
    "ax.add_patch(patches.Arc((100,50), 30, 30, angle=0, theta1=-6, theta2=25))\n",
    "ax.annotate(r\"$\\hat \\alpha$\",xy=(118,52))\n",
    "ax.add_patch(patches.Arc((0,0),50, 50, angle=0.0, theta1=0, theta2=12))\n",
    "ax.annotate(r\"$\\beta$\",xy=(27,2))\n",
    "ax.add_patch(patches.Arc((0,0), 60, 60, angle=0, theta1=12, theta2=26))\n",
    "ax.annotate(r\"$\\alpha$\",xy=(30,10))\n",
    "\n",
    "ax.annotate('', xy=(0, -10), xycoords='data', xytext=(100, -10), textcoords='data', arrowprops={'arrowstyle': '<->'})\n",
    "ax.annotate(r'$D_L$', xy=(50,0), xycoords='data',  xytext=(0, -20), textcoords='offset points')\n",
    "ax.annotate('', xy=(100, -10), xycoords='data', xytext=(200, -10), textcoords='data', arrowprops={'arrowstyle': '<->'})\n",
    "ax.annotate(r'$D_{LS}$', xy=(150,0), xycoords='data',  xytext=(0, -20), textcoords='offset points')\n",
    "ax.annotate('', xy=(0, -20), xycoords='data', xytext=(200, -20), textcoords='data', arrowprops={'arrowstyle': '<->'})\n",
    "ax.annotate(r'$D_S$', xy=(100,0), xycoords='data',  xytext=(0, -50), textcoords='offset points')\n",
    "plt.axis('scaled')\n",
    "plt.show()"
   ]
  },
  {
   "cell_type": "markdown",
   "metadata": {
    "deletable": true,
    "editable": true
   },
   "source": [
    "$\\beta=$ angular position of source on sky without lens"
   ]
  },
  {
   "cell_type": "markdown",
   "metadata": {
    "deletable": true,
    "editable": true
   },
   "source": [
    "$\\hat{\\alpha} =\\dfrac{4GM}{c^2 \\xi}$"
   ]
  },
  {
   "cell_type": "markdown",
   "metadata": {
    "deletable": true,
    "editable": true
   },
   "source": [
    "$\\require{cancel}$\n",
    "\n",
    "$\\eta = \\beta D_S$\n",
    "\n",
    "$\\xi = \\theta D_L$\n",
    "\n",
    "$\\zeta = \\hat \\alpha D_{LS}$\n",
    "\n",
    "$\\alpha = \\hat \\alpha \\dfrac{D_{LS}}{D_S}$\n",
    "\n",
    "$\\theta D_S = \\beta D_S + \\alpha D_{LS}$\n",
    "\n",
    "$\\theta = \\beta + \\alpha \\dfrac{D_{LS}}{D_S}$\n",
    "\n",
    "$\\vec \\theta  = \\vec \\beta + \\vec \\alpha$\n",
    "\n",
    "$\\vec \\theta (\\vec \\beta_0)  = \\vec \\beta_0 + \\vec\\alpha(\\vec\\beta_0)$\n",
    "\n",
    "$\\vec \\theta (\\vec \\beta_0 + \\delta \\vec \\beta)  = \\vec \\beta_0 + \\delta\\vec\\beta + \\vec \\alpha (\\vec \\beta_0 +\\delta\\vec\\beta)$\n",
    "\n",
    "$\\delta\\vec\\theta = \\vec\\theta(\\vec\\beta_0 + \\delta\\vec\\beta) - \\vec\\theta(\\vec\\beta_0)$\n",
    "\n",
    "$\\delta\\vec\\theta = \\delta\\vec\\beta + \\vec\\alpha(\\vec\\beta_0 +\\delta\\vec\\beta) - \\vec\\alpha(\\vec\\beta_0)$\n",
    "\n",
    "$\\delta\\vec\\theta = \\delta\\vec\\beta + \\left(\\begin{array}{c} \\vec\\alpha_1(\\vec\\beta_0 +\\delta\\vec\\beta) \\\\ \\vec\\alpha_2(\\vec\\beta_0 +\\delta\\vec\\beta) \\end{array} \\right)- \\vec\\alpha(\\vec\\beta_0) $\n",
    "\n",
    "Make use of Taylor expansion:\n",
    "\n",
    "$f(x) = \\sum\\limits^\\infty_{i=0} \\dfrac{f^{(i)}(x_0)}{i!} (x-x_0)^i$\n",
    "\n",
    "$f(x+\\delta) = f(x_0) + \\left. \\dfrac{\\partial f}{\\partial x} \\right|_{x_0}\\delta + \\left.\\dfrac{\\partial^2f}{\\partial x^2}\\right|_{x_0} \\dfrac{\\delta^2}{2} + .... $\n",
    "\n",
    "$\\delta \\theta_i = \\delta \\beta_i + \\xcancel{\\vec\\alpha(\\vec\\beta_0)} + \\left. \\dfrac{\\partial\\alpha_i}{\\partial\\beta_i}\\right|_{\\beta_0} \\delta\\beta_j  - \\xcancel{\\vec\\alpha(\\vec\\beta_0)}$\n",
    "\n",
    "$\\delta \\theta_i = \\delta \\beta_i + \\left. \\dfrac{\\partial\\alpha_i}{\\partial\\beta_i}\\right|_{\\beta_0} \\delta\\beta_j$\n",
    "\n",
    "$\\delta \\theta_i=\\delta^K_{ij} + M_{ij} \\delta\\beta_i$\n",
    "\n",
    "$\\delta \\theta_i =A_{ij}\\delta\\beta_j$"
   ]
  },
  {
   "cell_type": "markdown",
   "metadata": {
    "deletable": true,
    "editable": true
   },
   "source": [
    "# Deflection due to arbitrary mass distribution\n",
    "\"The field equations of General Relativity can be linearised if the\n",
    "gravitational field is weak. The deflection angle of an ensemble of\n",
    "point masses is then the (vectorial) sum of the deflections due to\n",
    "individual lenses. Consider now a three-dimensional mass distribution\n",
    "with volume density $\\rho(\\vec r)$.\""
   ]
  },
  {
   "cell_type": "code",
   "execution_count": 6,
   "metadata": {
    "collapsed": false,
    "deletable": true,
    "editable": true
   },
   "outputs": [
    {
     "data": {
      "image/png": "[encoded data removed]",
      "text/plain": [
       "<matplotlib.figure.Figure at 0x7314ab0>"
      ]
     },
     "metadata": {},
     "output_type": "display_data"
    }
   ],
   "source": [
    "fig, ax = plt.subplots(1, 1,figsize=(5, 5))\n",
    "ax.set_xticks(np.arange(0,10,1))\n",
    "ax.set_yticks(np.arange(0,10,1))\n",
    "                       \n",
    "plt.grid()\n",
    "\n",
    "ax.add_patch(plt.Circle((7,5),.2,fc='b'))\n",
    "ax.add_patch(plt.Circle((3,3),.2,fc='r'))\n",
    "ax.add_patch(plt.Circle((3,4),.2,fc='r'))\n",
    "ax.add_patch(plt.Circle((3,5),.2,fc='r'))\n",
    "\n",
    "ax.annotate('', xy=(7,7), xycoords='data', xytext=(8,7), textcoords='data', arrowprops={'arrowstyle': '<->'})\n",
    "ax.annotate(r\"$\\delta\\xi_1$\",xy=(7,7), xycoords='data',  xytext=(-20, 10), textcoords='offset points')\n",
    "ax.annotate('', xy=(7,7), xycoords='data', xytext=(7,8), textcoords='data', arrowprops={'arrowstyle': '<->'})\n",
    "ax.annotate(r\"$\\delta\\xi_2$\",xy=(7,7), xycoords='data',  xytext=(10, -10), textcoords='offset points')\n",
    "ax.arrow(7,5,-3.7,-0.9, head_width=0.2, head_length=.2, fc='k', ec='k')\n",
    "ax.annotate(r\"$\\vec\\xi^{\\prime}$\",xy=(5,5), xycoords='data',  xytext=(0, -3), textcoords='offset points')\n",
    "ax.annotate(r\"$dm$\",xy=(7,5), xycoords='data',  xytext=(5, 0), textcoords='offset points')\n",
    "ax.set_xlabel('Lens Plane')\n",
    "plt.show()"
   ]
  },
  {
   "cell_type": "markdown",
   "metadata": {
    "deletable": true,
    "editable": true
   },
   "source": [
    "Using thin lens approximation, $\\sum (\\vec\\xi) $ is total mass per unit area on lens plane, integrated over line of sight:\n",
    "\n",
    "$\\mathrm{d}m = \\sum (\\vec\\xi) \\, \\mathrm{d}\\xi_1 \\,\\mathrm{d}\\xi_2$ \n",
    "\n",
    "$  \\hat{\\vec\\alpha}(\\vec\\xi) = \\dfrac{4G}{c^2}\\,\n",
    "  \\sum\\mathrm{d} m(\\xi_1',\\xi_2',r_3')\\,\n",
    "  \\dfrac{\\vec\\xi-\\vec\\xi'}{|\\vec\\xi-\\vec\\xi'|^2} $\n",
    "  \n",
    "$ \\hat{\\vec\\alpha}(\\vec\\xi) = \\dfrac{4G}{c^2}\\displaystyle\\int\\mathrm{d}^2\\xi' \\displaystyle\\int\\mathrm{d} r_3'\\,\\rho(\\xi_1',\\xi_2',r_3')\\\n",
    "  \\dfrac{\\vec\\xi-\\vec\\xi'}{|\\vec\\xi-\\vec\\xi'|^2} $\n",
    "\n",
    "Define surface mass density as:\n",
    "\n",
    "$ \\Sigma(\\vec\\xi) \\equiv \\displaystyle\\int\\mathrm{d} r_3\\,\\rho(\\xi_1,\\xi_2,r_3) $\n",
    "\n",
    "$  \\hat{\\vec\\alpha}(\\vec\\xi) = \\dfrac{4G}{c^2}\\,\n",
    "  \\displaystyle\\int\\mathrm{d}^2\\xi'\\,\\Sigma(\\vec\\xi')\\,\n",
    "  \\dfrac{\\vec\\xi-\\vec\\xi'}{|\\vec\\xi-\\vec\\xi'|^2} $"
   ]
  },
  {
   "cell_type": "markdown",
   "metadata": {
    "deletable": true,
    "editable": true
   },
   "source": [
    "From diagram:\n",
    "\n",
    "$  \\vec\\eta = \\dfrac{D_\\mathrm{S}}{D_\\mathrm{L}}\\,\n",
    "  \\vec\\xi - D_\\mathrm{LS}\\hat{\\vec\\alpha}(\\vec\\xi)$\n",
    "  \n",
    "  Using $\\vec\\eta = \\vec\\beta D_\\mathrm{S}$ and $\\vec\\xi = \\vec\\theta D_\\mathrm{L}$ from diagram:\n",
    "  \n",
    "  $ \\vec\\beta = \\vec\\theta-\\dfrac{D_\\mathrm{LS}}{D_\\mathrm{S}}\\,\n",
    "  \\hat{\\vec\\alpha}(D_\\mathrm{L}\\vec\\theta) \\equiv\n",
    "  \\vec\\theta-\\vec\\alpha(\\vec\\theta) $ \n",
    "  \n",
    "  since $\\alpha = \\hat\\alpha \\dfrac{D_\\mathrm{LS}}{D_\\mathrm{S}}$\n",
    "  "
   ]
  },
  {
   "cell_type": "markdown",
   "metadata": {
    "deletable": true,
    "editable": true
   },
   "source": [
    "Replace $\\xi$ with $D_L\\theta$ and $\\hat\\alpha = \\alpha \\dfrac{D_\\mathrm{S}}{D_\\mathrm{LS}}$\n",
    "\n",
    "$ \\vec\\alpha(\\vec\\theta) = \\dfrac{4G}{c^2}\\dfrac{D_\\mathrm{L}D_\\mathrm{LS}}{D_\\mathrm{S}}\\,\n",
    "  \\displaystyle\\int\\mathrm{d}^2\\theta'\\,\\Sigma(\\vec\\theta')\\,\n",
    "  \\dfrac{\\vec\\theta-\\vec\\theta'}{|\\vec\\theta-\\vec\\theta'|^2} $\n",
    "  \n",
    "  Define dimensionless surface mass density (also known as *convergence*) as:\n",
    "\n",
    "$ \\kappa(\\vec\\theta) = \n",
    "  \\dfrac{\\Sigma(D_\\mathrm{L}\\vec\\theta)}{\\Sigma_\\mathrm{cr}}\n",
    "  \\quad\\hbox{with}\\quad\n",
    "  \\Sigma_\\mathrm{cr} = \\dfrac{c^2}{4\\pi G}\\,\n",
    "  \\dfrac{D_\\mathrm{S}}{D_\\mathrm{L}\\,D_\\mathrm{LS}}$\n",
    "  \n",
    "  where $\\Sigma_\\mathrm{cr} $ is critical surface mass density\n",
    "  \n",
    "  $ \\kappa \\gt 1 $ means strong lensing.\n",
    "  \n",
    "  $  \\vec\\alpha(\\vec\\theta) = \\dfrac{1}{\\pi}\\,\n",
    " \\displaystyle \\int_{\\mathbb{R}^2}\\mathrm{d}^2\\theta'\\,\\kappa(\\vec\\theta')\\,\n",
    "  \\dfrac{\\vec\\theta-\\vec\\theta'}{|\\vec\\theta-\\vec\\theta'|^2}$\n",
    "\n",
    "Then since\n",
    "\n",
    "${\\vec {\\alpha }}({\\vec {\\theta }})={\\vec {\\nabla }}\\psi ({\\vec {\\theta }})$\n",
    "\n",
    "and using the identity $\\nabla \\ln|\\theta| = \\theta/|\\theta|^2$\n",
    "\n",
    "$ \\psi(\\vec\\theta) = \\dfrac{1}{\\pi}\\displaystyle\\int_{\\mathbb{R}^2}\\mathrm{d}^2\\theta'\\,\n",
    "  \\kappa(\\vec\\theta')\\,\\ln|\\vec\\theta-\\vec\\theta'|$\n",
    "  \n",
    "  Then it follows that \n",
    "\n",
    "${\\displaystyle \\kappa ({\\vec {\\theta }})={\\frac {1}{2}}\\nabla ^{2}\\psi ({\\vec {\\theta }})} $"
   ]
  },
  {
   "cell_type": "markdown",
   "metadata": {
    "deletable": true,
    "editable": true
   },
   "source": [
    "$\\cal{A}(\\boldsymbol{\\vec\\theta}) = \\dfrac{\\partial\\boldsymbol{\\vec\\beta}}{\\partial\\boldsymbol{\\vec\\theta}}$\n",
    "\n",
    "then using $\\beta=\\theta-\\alpha(\\theta)$\n",
    "\n",
    "$\\cal{A}(\\boldsymbol{\\vec\\theta})=\\left(\\delta_{ij} -\\dfrac{\\partial\\alpha_i}{\\partial\\theta_j} \\right)$\n",
    "\n",
    "then since ${\\vec {\\alpha }}({\\vec {\\theta }})={\\vec {\\nabla }}\\psi ({\\vec {\\theta }}) \n",
    "= \\dfrac{\\partial\\psi_i}{\\partial\\theta_i} + \\dfrac{\\partial\\psi_j}{\\partial\\theta_j}$ \n",
    "\n",
    "$\\cal{A}(\\boldsymbol{\\vec\\theta})=\\left(\\delta_{ij}-\\dfrac{\\partial^2 \\psi(\\boldsymbol{\\vec\\theta)}}{\\partial\\theta_i \\partial\\theta_j} \\right)$\n",
    "\n",
    "\n",
    "$=\\left( \n",
    "\\begin{array}{cc}\n",
    " 1 - \\psi_{,11}  & \\psi_{,12} \\\\\n",
    "      \\psi_{,21} & 1 - \\psi_{,22}     \n",
    "\\end{array}\n",
    "\\right)$\n",
    "\n",
    "$\\cal{A}(\\boldsymbol{\\vec\\theta})= \\left( \\begin{array}{cc}\n",
    " 1 - \\kappa - \\gamma_1     & -\\gamma_2 \\\\\n",
    "   -\\gamma_2       & 1-\\kappa+\\gamma_1     \n",
    "\\end{array}\\right)$"
   ]
  },
  {
   "cell_type": "markdown",
   "metadata": {
    "deletable": true,
    "editable": true
   },
   "source": [
    "where shear defined as:\n",
    "\n",
    "$\\gamma \\equiv \\gamma_1 + i\\gamma_2 = |\\gamma| e^{2i\\psi} $\n",
    "\n",
    "and\n",
    "\n",
    "$\\gamma_1 = \\frac{1}{2}(\\psi_{,11} - \\psi_{,22}) \\, , \\gamma_2 = \\psi_{,12}= \\psi_{,21}$\n",
    "\n",
    "and recalling that \n",
    "\n",
    "\n",
    "${\\displaystyle \\kappa ({\\vec {\\theta }})={\\frac {1}{2}}\\nabla ^{2}\\psi ({\\vec {\\theta }})} $\n",
    "$ = \\frac{1}{2}\\left(\\dfrac{\\partial^2\\psi}{\\partial\\theta^2_i} +  \\dfrac{\\partial^2\\psi}{\\partial\\theta^2_j}\\right) $\n",
    "$ = \\frac{1}{2}\\left(\\psi_{,11} + \\psi_{,22} \\right) $\n"
   ]
  },
  {
   "cell_type": "code",
   "execution_count": 25,
   "metadata": {
    "collapsed": false,
    "deletable": true,
    "editable": true
   },
   "outputs": [
    {
     "data": {
      "image/png": "[encoded data removed]",
      "text/plain": [
       "<matplotlib.figure.Figure at 0xcce170>"
      ]
     },
     "metadata": {},
     "output_type": "display_data"
    }
   ],
   "source": [
    "# Make data.\n",
    "x = np.arange(-1, 1, 0.1)\n",
    "y = np.arange(-1, 1, 0.1)\n",
    "x, y = np.meshgrid(x, y)\n",
    "\n",
    "k=1;\n",
    "theta4 =  (x**2+y**2)**2;\n",
    "gamma1 = k*(y**2-x**2)/theta4;\n",
    "gamma2 = -2*k*x*y/theta4;\n",
    "gamma = gamma1**2+gamma2**2;\n",
    "\n",
    "l= np.sqrt(gamma);\n",
    "\n",
    "#phi =  np.arcsin(0.5*gamma2/gamma);\n",
    "phi =  0.5*np.arctan(gamma2/(gamma1+0.000001));\n",
    "\n",
    "u = l*np.cos(phi);\n",
    "v = l*np.sin(phi);\n",
    "\n",
    "#u=gamma1;\n",
    "#v=gamma2;\n",
    "\n",
    "fig, ax = plt.subplots(1, 1,figsize=(5, 5))\n",
    "\n",
    "qiv  = ax.quiver(x,y,u,v, pivot ='mid', scale= 200,headlength=0, headwidth=0, headaxislength=0)\n",
    "\n",
    "plt.show()"
   ]
  },
  {
   "cell_type": "markdown",
   "metadata": {
    "deletable": true,
    "editable": true
   },
   "source": [
    "## Magnification\n",
    "Magnification tensor defined as:\n",
    "\n",
    "$M(\\boldsymbol{\\theta})= \\cal{A}^{−1} $\n",
    "\n",
    "$\\mu = \\det M = \\dfrac{1}{\\det\\cal{A}} = \\dfrac{1}{(1-\\kappa)^2 - |\\gamma|^2}$"
   ]
  },
  {
   "cell_type": "markdown",
   "metadata": {
    "deletable": true,
    "editable": true
   },
   "source": [
    "## Reduced shear\n",
    "$\\cal{A}(\\boldsymbol{\\theta}) = (1-\\kappa) \\left( \\begin{array}{cc}\n",
    " 1 - g_1     & -g_2 \\\\\n",
    "   -g_2       & 1+g_1     \n",
    "\\end{array}\\right)$"
   ]
  },
  {
   "cell_type": "markdown",
   "metadata": {
    "deletable": true,
    "editable": true
   },
   "source": [
    "reduced shear defined as: \n",
    "$g \\equiv \\dfrac{\\gamma}{1-\\kappa}= \\dfrac{|\\gamma|}{1-\\kappa} e^{2i\\psi} $"
   ]
  },
  {
   "cell_type": "markdown",
   "metadata": {
    "deletable": true,
    "editable": true
   },
   "source": [
    "Critical angle defines Einstein Radius:"
   ]
  },
  {
   "cell_type": "markdown",
   "metadata": {
    "deletable": true,
    "editable": true
   },
   "source": [
    "$\\kappa(\\theta) = \\dfrac{\\theta_E}{\\theta} $\n",
    "where\n",
    "$\\theta_E = 4\\pi\\left(\\dfrac{\\sigma_\\nu}{c} \\right)^2 \\dfrac{D_s}{D} $"
   ]
  },
  {
   "cell_type": "markdown",
   "metadata": {},
   "source": [
    "# Singular Isothermal Sphere\n",
    "\n",
    "$\\rho = \\rho_0r^{-2}$\n",
    "\n",
    "Surface density:\n",
    "\n",
    "$\\Sigma(\\xi) =\\displaystyle\\int^\\infty_{-\\infty} \\mathrm{d}r_3 \\rho\\sqrt{\\xi^2+r_3^2}$\n",
    "\n",
    "$=\\rho_0 \\displaystyle\\int^\\infty_{-\\infty} \\dfrac{\\mathrm{d}r_3}{(\\xi^2+r_3^2)}$\n",
    "\n",
    "$=\\dfrac{\\pi\\rho_0}{\\xi}$\n",
    "\n",
    "$\\rightarrow \\kappa(\\theta) = \\dfrac{\\Sigma(D_L\\theta)}{\\Sigma_{cr}}=\\dfrac{\\pi\\rho_0}{\\Sigma_{cr}\\xi}=\\dfrac{\\pi\\rho_0}{\\Sigma_{cr}D_L \\theta}$\n",
    "\n",
    "Now using:\n",
    "\n",
    "$\\alpha(\\theta) =  \\dfrac{2}{|\\vec\\theta|}\\displaystyle\\int^\\theta_{\\theta'=0} \\kappa(\\theta')\\theta' \\mathrm{d}\\theta'$\n",
    "\n",
    "$\\rightarrow \\alpha(\\theta) = \\dfrac{2}{|\\vec\\theta|}\\displaystyle\\int^\\theta_{\\theta'=0}  \\dfrac{\\pi\\rho_0}{\\Sigma_{cr}D_L \\theta'}\\theta' \\mathrm{d}\\theta'$\n",
    "\n",
    "$=\\dfrac{2\\pi\\rho_0}{\\Sigma_{cr}D_L \\theta} \\left[\\theta'\\right]^\\theta_{\\theta'=0}$\n",
    "\n",
    "$=\\dfrac{2\\pi\\rho_0}{\\Sigma_{cr}D_L}$\n",
    "\n",
    "i.e. a constant bend angle"
   ]
  },
  {
   "cell_type": "markdown",
   "metadata": {
    "deletable": true,
    "editable": true
   },
   "source": [
    "# Questions"
   ]
  },
  {
   "cell_type": "markdown",
   "metadata": {
    "deletable": true,
    "editable": true
   },
   "source": [
    "Mass sheet degeneracy - use shear and magnification?"
   ]
  },
  {
   "cell_type": "markdown",
   "metadata": {
    "deletable": true,
    "editable": true
   },
   "source": [
    "galaxy-matter annular differential surface density defined as:\n",
    "\n",
    "$\\Upsilon_{gm}(R) ≡ \\Delta\\Sigma_{gm}(R) − \\left(\\dfrac{R_0}{R}\\right)^2 \\Sigma_{gm}(R_0) $"
   ]
  }
 ],
 "metadata": {
  "kernelspec": {
   "display_name": "Python 3",
   "language": "python",
   "name": "python3"
  },
  "language_info": {
   "codemirror_mode": {
    "name": "ipython",
    "version": 3
   },
   "file_extension": ".py",
   "mimetype": "text/x-python",
   "name": "python",
   "nbconvert_exporter": "python",
   "pygments_lexer": "ipython3",
   "version": "3.6.0"
  }
 },
 "nbformat": 4,
 "nbformat_minor": 2
}
